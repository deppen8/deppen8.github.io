{
 "cells": [
  {
   "cell_type": "markdown",
   "metadata": {
    "deletable": true,
    "editable": true
   },
   "source": [
    "# Talks markdown generator for academicpages\n",
    "\n",
    "Takes a TSV of talks with metadata and converts them for use with [academicpages.github.io](academicpages.github.io). This is an interactive Jupyter notebook ([see more info here](http://jupyter-notebook-beginner-guide.readthedocs.io/en/latest/what_is_jupyter.html)). The core python code is also in `talks.py`. Run either from the `markdown_generator` folder after replacing `talks.tsv` with one containing your data.\n",
    "\n",
    "TODO: Make this work with BibTex and other databases, rather than Stuart's non-standard TSV format and citation style."
   ]
  },
  {
   "cell_type": "code",
   "execution_count": 1,
   "metadata": {
    "collapsed": false,
    "deletable": true,
    "editable": true
   },
   "outputs": [],
   "source": [
    "import pandas as pd\n",
    "import os"
   ]
  },
  {
   "cell_type": "markdown",
   "metadata": {},
   "source": [
    "## Data format\n",
    "\n",
    "The TSV needs to have the following columns: title, type, url_slug, venue, date, location, talk_url, description, with a header at the top. Many of these fields can be blank, but the columns must be in the TSV.\n",
    "\n",
    "- Fields that cannot be blank: `title`, `url_slug`, `date`. All else can be blank. `type` defaults to \"Talk\" \n",
    "- `date` must be formatted as YYYY-MM-DD.\n",
    "- `url_slug` will be the descriptive part of the .md file and the permalink URL for the page about the paper. \n",
    "    - The .md file will be `YYYY-MM-DD-[url_slug].md` and the permalink will be `https://[yourdomain]/talks/YYYY-MM-DD-[url_slug]`\n",
    "    - The combination of `url_slug` and `date` must be unique, as it will be the basis for your filenames\n",
    "\n",
    "This is how the raw file looks (it doesn't look pretty, use a spreadsheet or other program to edit and create)."
   ]
  },
  {
   "cell_type": "code",
   "execution_count": 2,
   "metadata": {
    "collapsed": false
   },
   "outputs": [
    {
     "name": "stdout",
     "output_type": "stream",
     "text": [
      "title\ttype\turl_slug\tvenue\tdate\tlocation\ttalk_url\tdescription\r\n",
      "Talk 1 on Relevant Topic in Your Field\tTalk\ttalk-1\tUC San Francisco, Department of Testing\t2012-03-01\tSan Francisco, California\t\tThis is a description of your talk, which is a markdown files that can be all markdown-ified like any other post. Yay markdown!\r\n",
      "Tutorial 1 on Relevant Topic in Your Field\tTutorial\ttutorial-1\tUC-Berkeley Institute for Testing Science\t2013-03-01\tBerkeley CA, USA\thttp://exampleurl.com\tThis is a description of your tutorial, note the different field in type. This is a markdown files that can be all markdown-ified like any other post. Yay markdown!\r\n",
      "Talk 2 on Relevant Topic in Your Field\tTalk\ttalk-2\tLondon School of Testing\t2014-02-01\tLondon, UK\thttp://example2.com\tThis is a description of your talk, which is a markdown files that can be all markdown-ified like any other post. Yay markdown!\r\n",
      "Conference Proceeding talk 3 on Relevant Topic in Your Field\tConference proceedings talk\ttalk-3\tTesting Institute of America 2014 Annual Conference\t2014-03-01\tLos Angeles, CA\t\tThis is a description of your conference proceedings talk, note the different field in type. You can put anything in this field."
     ]
    }
   ],
   "source": [
    "!cat talks.tsv"
   ]
  },
  {
   "cell_type": "markdown",
   "metadata": {},
   "source": [
    "## Import TSV\n",
    "\n",
    "Pandas makes this easy with the read_csv function. We are using a TSV, so we specify the separator as a tab, or `\\t`.\n",
    "\n",
    "I found it important to put this data in a tab-separated values format, because there are a lot of commas in this kind of data and comma-separated values can get messed up. However, you can modify the import statement, as pandas also has read_excel(), read_json(), and others."
   ]
  },
  {
   "cell_type": "code",
   "execution_count": 4,
   "metadata": {
    "collapsed": false,
    "deletable": true,
    "editable": true
   },
   "outputs": [
    {
     "data": {
      "text/html": [
       "<div>\n",
       "<style>\n",
       "    .dataframe thead tr:only-child th {\n",
       "        text-align: right;\n",
       "    }\n",
       "\n",
       "    .dataframe thead th {\n",
       "        text-align: left;\n",
       "    }\n",
       "\n",
       "    .dataframe tbody tr th {\n",
       "        vertical-align: top;\n",
       "    }\n",
       "</style>\n",
       "<table border=\"1\" class=\"dataframe\">\n",
       "  <thead>\n",
       "    <tr style=\"text-align: right;\">\n",
       "      <th></th>\n",
       "      <th>title</th>\n",
       "      <th>type</th>\n",
       "      <th>url_slug</th>\n",
       "      <th>venue</th>\n",
       "      <th>date</th>\n",
       "      <th>location</th>\n",
       "      <th>talk_url</th>\n",
       "      <th>description</th>\n",
       "    </tr>\n",
       "  </thead>\n",
       "  <tbody>\n",
       "    <tr>\n",
       "      <th>0</th>\n",
       "      <td>Connected Through Things: Connectivity in Iron...</td>\n",
       "      <td>Talk</td>\n",
       "      <td>connected-through-things</td>\n",
       "      <td>82nd Annual Meeting of the Society for America...</td>\n",
       "      <td>2017-03-31</td>\n",
       "      <td>Vancouver, BC, Canada</td>\n",
       "      <td>NaN</td>\n",
       "      <td>NaN</td>\n",
       "    </tr>\n",
       "    <tr>\n",
       "      <th>1</th>\n",
       "      <td>Getting More from Survey: A Case Study from th...</td>\n",
       "      <td>Talk</td>\n",
       "      <td>getting-more-from-survey</td>\n",
       "      <td>82nd Annual Meeting of the Society for America...</td>\n",
       "      <td>2017-03-30</td>\n",
       "      <td>Vancouver, BC, Canada</td>\n",
       "      <td>NaN</td>\n",
       "      <td>Co-author with Marcos Llobera and Dave Hunt</td>\n",
       "    </tr>\n",
       "    <tr>\n",
       "      <th>2</th>\n",
       "      <td>Constructing and Assessing Explanations and In...</td>\n",
       "      <td>Organized symposium</td>\n",
       "      <td>constructing-and-assessing-explanations</td>\n",
       "      <td>75th Annual Meeting of the Society for America...</td>\n",
       "      <td>2010-04-17</td>\n",
       "      <td>St. Louis, MO, USA</td>\n",
       "      <td>NaN</td>\n",
       "      <td>Symposium co-organized with Natalia Slobodina</td>\n",
       "    </tr>\n",
       "    <tr>\n",
       "      <th>3</th>\n",
       "      <td>What Can Inference to the Best Explanation Do ...</td>\n",
       "      <td>Talk</td>\n",
       "      <td>inference-to-the-best-explanation</td>\n",
       "      <td>75th Annual Meeting of the Society for America...</td>\n",
       "      <td>2010-04-17</td>\n",
       "      <td>St. Louis, MO, USA</td>\n",
       "      <td>NaN</td>\n",
       "      <td>NaN</td>\n",
       "    </tr>\n",
       "    <tr>\n",
       "      <th>4</th>\n",
       "      <td>Deer Utilization and Environmental Change at T...</td>\n",
       "      <td>Poster</td>\n",
       "      <td>deer-utilization</td>\n",
       "      <td>74th Annual Meeting of the Society for America...</td>\n",
       "      <td>2009-04-23</td>\n",
       "      <td>Atlanta, GA, USA</td>\n",
       "      <td>NaN</td>\n",
       "      <td>Co-author with Robert A. Cook</td>\n",
       "    </tr>\n",
       "    <tr>\n",
       "      <th>5</th>\n",
       "      <td>Experiments in Prismatic Blade Production: Les...</td>\n",
       "      <td>Talk</td>\n",
       "      <td>prismatic-blades</td>\n",
       "      <td>72nd Annual Meeting of the Society for America...</td>\n",
       "      <td>2007-04-27</td>\n",
       "      <td>Austin, TX, USA</td>\n",
       "      <td>NaN</td>\n",
       "      <td>Co-author with Kevin C. Nolan, Mark A. Dolleck...</td>\n",
       "    </tr>\n",
       "    <tr>\n",
       "      <th>6</th>\n",
       "      <td>Experiments in Hopewell Blade Production: Less...</td>\n",
       "      <td>Talk</td>\n",
       "      <td>hopewell-blades</td>\n",
       "      <td>2006 Spring Meeting of the Ohio Archaeological...</td>\n",
       "      <td>2006-05-01</td>\n",
       "      <td>Columbus, OH, USA</td>\n",
       "      <td>http://ohioarchaeology.org/component/content/a...</td>\n",
       "      <td>Co-author with Kevin C. Nolan</td>\n",
       "    </tr>\n",
       "  </tbody>\n",
       "</table>\n",
       "</div>"
      ],
      "text/plain": [
       "                                               title                 type  \\\n",
       "0  Connected Through Things: Connectivity in Iron...                 Talk   \n",
       "1  Getting More from Survey: A Case Study from th...                 Talk   \n",
       "2  Constructing and Assessing Explanations and In...  Organized symposium   \n",
       "3  What Can Inference to the Best Explanation Do ...                 Talk   \n",
       "4  Deer Utilization and Environmental Change at T...               Poster   \n",
       "5  Experiments in Prismatic Blade Production: Les...                 Talk   \n",
       "6  Experiments in Hopewell Blade Production: Less...                 Talk   \n",
       "\n",
       "                                  url_slug  \\\n",
       "0                 connected-through-things   \n",
       "1                 getting-more-from-survey   \n",
       "2  constructing-and-assessing-explanations   \n",
       "3        inference-to-the-best-explanation   \n",
       "4                         deer-utilization   \n",
       "5                         prismatic-blades   \n",
       "6                          hopewell-blades   \n",
       "\n",
       "                                               venue        date  \\\n",
       "0  82nd Annual Meeting of the Society for America...  2017-03-31   \n",
       "1  82nd Annual Meeting of the Society for America...  2017-03-30   \n",
       "2  75th Annual Meeting of the Society for America...  2010-04-17   \n",
       "3  75th Annual Meeting of the Society for America...  2010-04-17   \n",
       "4  74th Annual Meeting of the Society for America...  2009-04-23   \n",
       "5  72nd Annual Meeting of the Society for America...  2007-04-27   \n",
       "6  2006 Spring Meeting of the Ohio Archaeological...  2006-05-01   \n",
       "\n",
       "                location                                           talk_url  \\\n",
       "0  Vancouver, BC, Canada                                                NaN   \n",
       "1  Vancouver, BC, Canada                                                NaN   \n",
       "2     St. Louis, MO, USA                                                NaN   \n",
       "3     St. Louis, MO, USA                                                NaN   \n",
       "4       Atlanta, GA, USA                                                NaN   \n",
       "5        Austin, TX, USA                                                NaN   \n",
       "6      Columbus, OH, USA  http://ohioarchaeology.org/component/content/a...   \n",
       "\n",
       "                                         description  \n",
       "0                                                NaN  \n",
       "1        Co-author with Marcos Llobera and Dave Hunt  \n",
       "2      Symposium co-organized with Natalia Slobodina  \n",
       "3                                                NaN  \n",
       "4                      Co-author with Robert A. Cook  \n",
       "5  Co-author with Kevin C. Nolan, Mark A. Dolleck...  \n",
       "6                      Co-author with Kevin C. Nolan  "
      ]
     },
     "execution_count": 4,
     "metadata": {},
     "output_type": "execute_result"
    }
   ],
   "source": [
    "talks = pd.read_csv(\"talks_jed.tsv\", sep=\"\\t\", header=0)\n",
    "talks"
   ]
  },
  {
   "cell_type": "markdown",
   "metadata": {},
   "source": [
    "## Escape special characters\n",
    "\n",
    "YAML is very picky about how it takes a valid string, so we are replacing single and double quotes (and ampersands) with their HTML encoded equivilents. This makes them look not so readable in raw format, but they are parsed and rendered nicely."
   ]
  },
  {
   "cell_type": "code",
   "execution_count": 5,
   "metadata": {
    "collapsed": false,
    "deletable": true,
    "editable": true
   },
   "outputs": [],
   "source": [
    "html_escape_table = {\n",
    "    \"&\": \"&amp;\",\n",
    "    '\"': \"&quot;\",\n",
    "    \"'\": \"&apos;\"\n",
    "    }\n",
    "\n",
    "def html_escape(text):\n",
    "    if type(text) is str:\n",
    "        return \"\".join(html_escape_table.get(c,c) for c in text)\n",
    "    else:\n",
    "        return \"False\""
   ]
  },
  {
   "cell_type": "markdown",
   "metadata": {},
   "source": [
    "## Creating the markdown files\n",
    "\n",
    "This is where the heavy lifting is done. This loops through all the rows in the TSV dataframe, then starts to concatentate a big string (```md```) that contains the markdown for each type. It does the YAML metadata first, then does the description for the individual page."
   ]
  },
  {
   "cell_type": "code",
   "execution_count": 6,
   "metadata": {
    "collapsed": false,
    "deletable": true,
    "editable": true
   },
   "outputs": [],
   "source": [
    "loc_dict = {}\n",
    "\n",
    "for row, item in talks.iterrows():\n",
    "    \n",
    "    md_filename = str(item.date) + \"-\" + item.url_slug + \".md\"\n",
    "    html_filename = str(item.date) + \"-\" + item.url_slug \n",
    "    year = item.date[:4]\n",
    "    \n",
    "    md = \"---\\ntitle: \\\"\"   + item.title + '\"\\n'\n",
    "    md += \"collection: talks\" + \"\\n\"\n",
    "    \n",
    "    if len(str(item.type)) > 3:\n",
    "        md += 'type: \"' + item.type + '\"\\n'\n",
    "    else:\n",
    "        md += 'type: \"Talk\"\\n'\n",
    "    \n",
    "    md += \"permalink: /talks/\" + html_filename + \"\\n\"\n",
    "    \n",
    "    if len(str(item.venue)) > 3:\n",
    "        md += 'venue: \"' + item.venue + '\"\\n'\n",
    "        \n",
    "    if len(str(item.location)) > 3:\n",
    "        md += \"date: \" + str(item.date) + \"\\n\"\n",
    "    \n",
    "    if len(str(item.location)) > 3:\n",
    "        md += 'location: \"' + str(item.location) + '\"\\n'\n",
    "           \n",
    "    md += \"---\\n\"\n",
    "    \n",
    "    \n",
    "    if len(str(item.talk_url)) > 3:\n",
    "        md += \"\\n[More information here](\" + item.talk_url + \")\\n\" \n",
    "        \n",
    "    \n",
    "    if len(str(item.description)) > 3:\n",
    "        md += \"\\n\" + html_escape(item.description) + \"\\n\"\n",
    "        \n",
    "        \n",
    "    md_filename = os.path.basename(md_filename)\n",
    "    #print(md)\n",
    "    \n",
    "    with open(\"../_talks/\" + md_filename, 'w') as f:\n",
    "        f.write(md)"
   ]
  },
  {
   "cell_type": "markdown",
   "metadata": {},
   "source": [
    "These files are in the talks directory, one directory below where we're working from."
   ]
  },
  {
   "cell_type": "code",
   "execution_count": 7,
   "metadata": {
    "collapsed": false,
    "deletable": true,
    "editable": true
   },
   "outputs": [
    {
     "name": "stdout",
     "output_type": "stream",
     "text": [
      "2006-05-01-hopewell-blades.md\r\n",
      "2007-04-27-prismatic-blades.md\r\n",
      "2009-04-23-deer-utilization.md\r\n",
      "2010-04-17-constructing-and-assessing-explanations.md\r\n",
      "2010-04-17-inference-to-the-best-explanation.md\r\n",
      "2012-03-01-talk-1.md\r\n",
      "2013-03-01-tutorial-1.md\r\n",
      "2014-02-01-talk-2.md\r\n",
      "2014-03-01-talk-3.md\r\n",
      "2017-03-30-getting-more-from-survey.md\r\n",
      "2017-03-31-connected-through-things.md\r\n"
     ]
    }
   ],
   "source": [
    "!ls ../_talks"
   ]
  },
  {
   "cell_type": "code",
   "execution_count": 8,
   "metadata": {
    "collapsed": false,
    "deletable": true,
    "editable": true
   },
   "outputs": [
    {
     "name": "stdout",
     "output_type": "stream",
     "text": [
      "---\r\n",
      "title: \"Tutorial 1 on Relevant Topic in Your Field\"\r\n",
      "collection: talks\r\n",
      "type: \"Tutorial\"\r\n",
      "permalink: /talks/2013-03-01-tutorial-1\r\n",
      "venue: \"UC-Berkeley Institute for Testing Science\"\r\n",
      "date: 2013-03-01\r\n",
      "location: \"Berkeley CA, USA\"\r\n",
      "---\r\n",
      "\r\n",
      "[More information here](http://exampleurl.com)\r\n",
      "\r\n",
      "This is a description of your tutorial, note the different field in type. This is a markdown files that can be all markdown-ified like any other post. Yay markdown!\r\n"
     ]
    }
   ],
   "source": [
    "!cat ../_talks/2013-03-01-tutorial-1.md"
   ]
  },
  {
   "cell_type": "code",
   "execution_count": null,
   "metadata": {},
   "outputs": [],
   "source": []
  }
 ],
 "metadata": {
  "kernelspec": {
   "display_name": "Python 3",
   "language": "python",
   "name": "python3"
  },
  "language_info": {
   "codemirror_mode": {
    "name": "ipython",
    "version": 3
   },
   "file_extension": ".py",
   "mimetype": "text/x-python",
   "name": "python",
   "nbconvert_exporter": "python",
   "pygments_lexer": "ipython3",
   "version": "3.6.3"
  }
 },
 "nbformat": 4,
 "nbformat_minor": 2
}
